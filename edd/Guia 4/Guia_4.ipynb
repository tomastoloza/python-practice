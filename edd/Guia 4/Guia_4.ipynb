{
 "cells": [
  {
   "cell_type": "markdown",
   "metadata": {},
   "source": [
    "# Estructuras de Datos\n",
    "## Universidad Nacional de Tres de Febrero\n",
    "## Guía de ejercicios 4"
   ]
  },
  {
   "cell_type": "markdown",
   "metadata": {},
   "source": [
    "### Archivos CSV\n",
    "Los archivos CSV nos permite guardar información estructurada en un archivo de texto, separando los campos con un delimitador que generalmente es \";\" (punto y coma) o \",\" (coma)\n",
    "En esta guía de ejercicios vamos a trabajar con los datasets de ciencia y tecnología de Argentina, publicados en:\n",
    "\n",
    "**https://datasets.datos.mincyt.gob.ar/dataset**\n",
    "\n",
    "Los datasets publicados son:\n",
    "\n",
    "1. **Empresas de ejecución de proyectos de ciencia, tecnología e innovación:** Empresas de ejecución de proyectos financiados por la Agencia Nacional de Promoción Científica y Tecnológica (Argentina, 2001-2016). Registro Nacional de Proyectos de Investigación, Desarrollo e Innovación\n",
    "2. **Proyectos de ciencia, tecnología e innovación:** Registro Nacional de Proyectos de Investigación, Desarrollo e Innovación (Argentina, 2001-2016)\n",
    "3. **Recursos humanos en ciencia y tecnología:** Registro Unificado y Normalizado a nivel nacional de los Datos Curriculares del personal científico y tecnológico que se desempeña en las instituciones argentinas (Registro CVar) (Argentina, 2016)\n",
    "4. **Equipamiento científico-tecnológico:** Equipamiento científico-tecnológico registrado en Instituciones del Sistema Nacional de Ciencia y Tecnología Argentino adheridas al Programa de Grandes Instrumentos y Bases de Datos (Argentina, 2016). Registro Nacional de Instituciones de Ciencia, Tecnología e Innovación\n",
    "5. **Instituciones del Sistema Nacional de Ciencia y Tecnología Argentino:** Instituciones del Sistema Nacional de Ciencia y Tecnología Argentino adheridas al Registro CVar (Argentina, 2016)\n",
    "\n",
    "\n",
    "A continuación se presentan una serie de consultas que para resolverlas vamos a utilizar Python, programando las funciones que sean necesarias para lo cual vamos a utilizar las versiones csv de los datasets. Estos datasets utilizan \",\" (coma) como delimitador.\n",
    "\n",
    "Para leer correctamente los caracteres especiales (vocales con tildes, ñ, etc.) se recomienda utilizar la codificación utf-8.\n",
    "Por ejemplo para abrir el primer dataset solo para lectura y con codificación utf-8 se puede usar la siguiente instrucción:\n",
    "```python\n",
    "ifile=open(\"1 - empresas-ejecutoras-proyectos.csv\",encoding='utf-8', mode=\"r\")\n",
    "```"
   ]
  },
  {
   "cell_type": "markdown",
   "metadata": {},
   "source": [
    "#### Ejercicio 1: ¿Cuál es la empresa que más proyectos ejecutó?\n",
    "Dataset 1"
   ]
  },
  {
   "cell_type": "code",
   "execution_count": 14,
   "metadata": {},
   "outputs": [],
   "source": [
    "import csv\n",
    "\n",
    "ifile=open(\"1 - empresas-ejecutoras-proyectos.csv\",encoding='utf-8', mode=\"r\")\n"
   ]
  },
  {
   "cell_type": "markdown",
   "metadata": {},
   "source": [
    "#### Ejercicio 2: ¿En cuál provincia se ejecutaron más proyectos de empresas? y ¿Cuál provincia tiene más empresas que ejecutan proyectos?\n",
    "Dataset 1"
   ]
  },
  {
   "cell_type": "code",
   "execution_count": 15,
   "metadata": {},
   "outputs": [],
   "source": [
    "import csv\n",
    "\n",
    "ifile=open(\"1 - empresas-ejecutoras-proyectos.csv\",encoding='utf-8', mode=\"r\")"
   ]
  },
  {
   "cell_type": "markdown",
   "metadata": {},
   "source": [
    "#### Ejercicio 3: ¿Cuál es la región de la Argentina que recibió más dinero para financiar proyectos? y ¿Cuál es el tipo de organización que menos aporte realizó?\n",
    "Dataset 2\n",
    "El aporte que realiza una organización es el monto_total - monto_financiado"
   ]
  },
  {
   "cell_type": "code",
   "execution_count": 16,
   "metadata": {},
   "outputs": [],
   "source": [
    "import csv"
   ]
  },
  {
   "cell_type": "markdown",
   "metadata": {},
   "source": [
    "#### Ejercicio 4: Escribir un archivo en formato csv, usando como delimitador \";\" (punto y coma) con los siguientes campos: provincia, gran_area_de_formación, cantidad_RRHH.\n",
    "Dataset 3"
   ]
  },
  {
   "cell_type": "code",
   "execution_count": null,
   "metadata": {},
   "outputs": [],
   "source": []
  },
  {
   "cell_type": "markdown",
   "metadata": {},
   "source": [
    "#### Ejercicio 5: Escribir un archivo en formato csv, usando como delimitador \";\" con los siguientes campos: provincia, tipo_personal, cantidad_RRHH.\n",
    "Dataset 3"
   ]
  },
  {
   "cell_type": "code",
   "execution_count": null,
   "metadata": {},
   "outputs": [],
   "source": []
  },
  {
   "cell_type": "markdown",
   "metadata": {},
   "source": [
    "#### Ejercicio 6: Escribir un archivo CSV con los siguientes campos provincia, cantidad de empresas, monto total financiado, totalizado por provincia (cada provincia aparece una única vez).\n",
    "Datasets 1 y 2"
   ]
  },
  {
   "cell_type": "code",
   "execution_count": null,
   "metadata": {},
   "outputs": [],
   "source": []
  },
  {
   "cell_type": "markdown",
   "metadata": {},
   "source": [
    "#### Ejercicio 7: Mostrar por pantallas todas las provincias que cuentan con personal en área de formación \"ciencias médicas y de la salud\" y no cuentan con \"Resonador Magnético\"\n",
    "Datasets 3 y 4"
   ]
  },
  {
   "cell_type": "code",
   "execution_count": null,
   "metadata": {},
   "outputs": [],
   "source": []
  },
  {
   "cell_type": "markdown",
   "metadata": {},
   "source": [
    "#### Ejercicio 8: Mostrar por pantallas todas las provincias que cuentan con personal en área de formación \"ingenierías y tecnologías\" y con \"Computadora de Alto Desempeño\" o \"Láseres\" como equipamiento y la cantidad de proyectos ejecutados por \"Consorcio público\" o \"Consorcio público-privado\"\n",
    "Datasets 2, 3 y 4"
   ]
  },
  {
   "cell_type": "code",
   "execution_count": null,
   "metadata": {},
   "outputs": [],
   "source": []
  }
 ],
 "metadata": {
  "kernelspec": {
   "display_name": "Python 3",
   "language": "python",
   "name": "python3"
  },
  "language_info": {
   "codemirror_mode": {
    "name": "ipython",
    "version": 3
   },
   "file_extension": ".py",
   "mimetype": "text/x-python",
   "name": "python",
   "nbconvert_exporter": "python",
   "pygments_lexer": "ipython3",
   "version": "3.6.1"
  }
 },
 "nbformat": 4,
 "nbformat_minor": 4
}
