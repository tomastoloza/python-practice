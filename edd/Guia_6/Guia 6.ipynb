{
 "cells": [
  {
   "cell_type": "markdown",
   "metadata": {},
   "source": [
    "# <center>Estructuras de Datos<center>\n",
    "## <center>Universidad Nacional de Tres de Febrero<center>\n",
    "## <center>Guía de ejercicios 6<center>\n"
   ]
  },
  {
   "cell_type": "markdown",
   "metadata": {},
   "source": [
    "### Map Reduce\n",
    "Hay que recordar que MapReduce tal como lo vimos en clase utiliza una arquitectura distribuida, que puede ser un cluster de computadoras, en las cuales hay una que cumple la función de master, que subdivide el problema y distribuye los subproblemas entre las otras computadoras del cluster, que se encargan de mapear es decir aplicar la función map a los datos para obtener resultados intermedios que se almacenna y luego la computadora master distribuye tareas entre las otras computadoras para combinar los resultados intermedios para obtener el resultado final. Esta es la etapa del reduce.\n",
    "En Python existen las funciones map y reduce que nos van a permitir introducir el tema de MapReduce con algunas limitaciones, ya que las mismas trabajan sobre iterables.\n",
    "Map toma como argumentos una función y una colección iterable y le aplica la función a cada elemento de la colección, por ejemplo:\n",
    "Por ejemplo dada la lista [1,2,3,4,5] elevar al cuadrado sus elementos:"
   ]
  },
  {
   "cell_type": "code",
   "execution_count": null,
   "metadata": {},
   "outputs": [],
   "source": [
    "l=[1,2,3,4,5]\n",
    "l2=map(lambda x: x*x, l)\n",
    "for x in l2:\n",
    "    print(x)"
   ]
  },
  {
   "cell_type": "markdown",
   "metadata": {},
   "source": [
    "\n",
    "Para usar la función reduce es necesario importar functools.\n",
    "Dada la lista [1,2,3,4,5], elevar al cuadrado todos los elementos y sumarlos"
   ]
  },
  {
   "cell_type": "code",
   "execution_count": null,
   "metadata": {},
   "outputs": [],
   "source": [
    "import functools\n",
    "\n",
    "l2=map(lambda x: x*x, [1,2,3,4,5])\n",
    "res=functools.reduce(lambda x, y: x+y, l2, 0)\n",
    "print(res)"
   ]
  },
  {
   "cell_type": "markdown",
   "metadata": {},
   "source": [
    "#### Ejercicio 1\n",
    "Dada una lista de enteros, calcular el producto de los elementos elevados al cubo"
   ]
  },
  {
   "cell_type": "code",
   "execution_count": null,
   "metadata": {},
   "outputs": [],
   "source": []
  },
  {
   "cell_type": "markdown",
   "metadata": {},
   "source": [
    "#### Ejercicio 2\n",
    "Dada una lista de enteros encontrar el máximo en valor absoluto. Por ejemplo, dada la lista:\n",
    "```python\n",
    "[5, -200, -7, 6]\n",
    "```\n",
    "\n",
    "Debe devolver 200.\n",
    "\n",
    "Sugerencia: la etapa de map debe calcular el valor absoluto de cada elemento y el la etapa de reduce quedarse con el máximo"
   ]
  },
  {
   "cell_type": "code",
   "execution_count": null,
   "metadata": {},
   "outputs": [],
   "source": []
  },
  {
   "cell_type": "markdown",
   "metadata": {},
   "source": [
    "#### Ejercicio 3\n",
    "Dada una lista de tuplas (articulo, cant, precio_unitario). Calcular el monto total de la venta.\n",
    "\n",
    "Por ejemplo:\n",
    "\n",
    "```python\n",
    "[(\"cuadernos\",10,100),(\"lapiceras\",20,2),(\"libros\",5,150)]\n",
    "```\n",
    "Map debe mapear cada tupla a su valor total de venta\n",
    "reduce debe sumar todas las ventas\n",
    "```\n",
    "map ->[1000,40,750]\n",
    "reduce->1790\n",
    "```"
   ]
  },
  {
   "cell_type": "code",
   "execution_count": null,
   "metadata": {},
   "outputs": [],
   "source": []
  },
  {
   "cell_type": "markdown",
   "metadata": {},
   "source": [
    "#### Ejercicio 4\n",
    "Se tienen datos de temperaturas en un archivo.txt con el siguiente formato y se quiere calcular la temperatura máxima de cada año.\n",
    "Formato:\n",
    "```\n",
    "Columnas 1 a 4: año\n",
    "Columnas 5-6: mes\n",
    "Columnas 7-8: día\n",
    "Columna 9: signo de la temperatura (+ / -)\n",
    "Columnas 10 a 12: temperatura * 10 (por ejemplo 346 se lee como 34.6 y 999 significa dato faltante)\n",
    "Columna 13: Calidad del dato (si la calidad no es 1 o 2, el dato no sirve).\n",
    "```\n",
    "Escribir en Python dos funciones Map y Reduce con las siguientes especificaciones:\n",
    "\n",
    "Map:\n",
    "\n",
    "Lee cada línea de texto, separa año, temperatura y calidad y si la calidad es la adecuada y el dato no es faltante. Genera una línea y la escribe en un archivo de texto intermedio de la forma aaaa,ttt.\n",
    "\n",
    "Reduce:\n",
    "\n",
    "Lee el archivo de texto intermedio y produce el resultado deseado: año, máxima temperatura de cada año.\n"
   ]
  },
  {
   "cell_type": "code",
   "execution_count": null,
   "metadata": {},
   "outputs": [],
   "source": []
  },
  {
   "cell_type": "code",
   "execution_count": null,
   "metadata": {},
   "outputs": [],
   "source": []
  }
 ],
 "metadata": {
  "celltoolbar": "Slideshow",
  "kernelspec": {
   "display_name": "Python 3",
   "language": "python",
   "name": "python3"
  },
  "language_info": {
   "codemirror_mode": {
    "name": "ipython",
    "version": 3
   },
   "file_extension": ".py",
   "mimetype": "text/x-python",
   "name": "python",
   "nbconvert_exporter": "python",
   "pygments_lexer": "ipython3",
   "version": "3.6.1"
  }
 },
 "nbformat": 4,
 "nbformat_minor": 4
}
